{
 "cells": [
  {
   "cell_type": "markdown",
   "id": "dbb2bc6d",
   "metadata": {},
   "source": [
    "# Galaxies: An interactive graduate course\n",
    "\n",
    "## Chapter 9: Black holes and AGN feedback\n",
    "\n",
    "#### (c) Benedikt Diemer, University of Maryland"
   ]
  },
  {
   "cell_type": "code",
   "execution_count": 1,
   "id": "383b2e13",
   "metadata": {},
   "outputs": [],
   "source": [
    "import numpy as np\n",
    "import scipy\n",
    "import matplotlib.pyplot as plt\n",
    "from routines import common as cmn\n",
    "\n",
    "# Plotting settings\n",
    "%matplotlib inline\n",
    "%config InlineBackend.figure_format = 'retina'\n",
    "\n",
    "# Automatically reload code imported from changed python files\n",
    "%reload_ext autoreload\n",
    "%autoreload 2"
   ]
  },
  {
   "cell_type": "markdown",
   "id": "2064e37b",
   "metadata": {},
   "source": [
    "### 9.2) The growth of black holes"
   ]
  },
  {
   "cell_type": "markdown",
   "id": "2d46d94b",
   "metadata": {},
   "source": [
    "The luminosity for an AGN with an accretion rate of 1 solar mass per year:"
   ]
  },
  {
   "cell_type": "code",
   "execution_count": 2,
   "id": "22eaa0b2",
   "metadata": {},
   "outputs": [
    {
     "name": "stdout",
     "output_type": "stream",
     "text": [
      "The luminosity is 5.7e+45 erg/s.\n"
     ]
    }
   ],
   "source": [
    "from colossus.utils import constants\n",
    "\n",
    "eps_rad_def = 0.1\n",
    "\n",
    "L = eps_rad_def * constants.MSUN * constants.C**2 / constants.YEAR\n",
    "print('The luminosity is %.1e erg/s.' % L)"
   ]
  },
  {
   "cell_type": "markdown",
   "id": "a7dfd914",
   "metadata": {},
   "source": [
    "The Eddington luminosity per solar mass per year accreted:"
   ]
  },
  {
   "cell_type": "code",
   "execution_count": 3,
   "id": "b8365e13",
   "metadata": {},
   "outputs": [
    {
     "name": "stdout",
     "output_type": "stream",
     "text": [
      "The Eddington luminosity per solar mass per year is\n",
      "    1.3e+38 erg/s\n",
      "    3.3e+04 Lsun\n"
     ]
    }
   ],
   "source": [
    "sigma_T = 6.65E-25\n",
    "L_sun = 3.83E33\n",
    "\n",
    "L_edd = 4.0 * np.pi * constants.C * constants.G_CGS * constants.M_PROTON / sigma_T * constants.MSUN\n",
    "print('The Eddington luminosity per solar mass per year is')\n",
    "print('    %.1e erg/s' % L_edd)\n",
    "\n",
    "L_edd_Lsun = L_edd / L_sun\n",
    "print('    %.1e Lsun' % L_edd_Lsun)"
   ]
  },
  {
   "cell_type": "markdown",
   "id": "871656e4",
   "metadata": {},
   "source": [
    "The Eddington accretion rate per solar mass in BH mass, and at $\\epsilon_{\\rm rad} = 0.1$:"
   ]
  },
  {
   "cell_type": "code",
   "execution_count": 4,
   "id": "b97147b6",
   "metadata": {},
   "outputs": [
    {
     "name": "stdout",
     "output_type": "stream",
     "text": [
      "The Eddington mass is 2.2e-08 solar masses.\n"
     ]
    }
   ],
   "source": [
    "dM_edd = L_edd / eps_rad_def / constants.C**2 / constants.MSUN * constants.YEAR\n",
    "print('The Eddington mass is %.1e solar masses.' % dM_edd)"
   ]
  },
  {
   "cell_type": "markdown",
   "id": "dce33731",
   "metadata": {},
   "source": [
    "For Sagittarius A*, we would expect an accretion rate:"
   ]
  },
  {
   "cell_type": "code",
   "execution_count": 5,
   "id": "9ffe957f",
   "metadata": {},
   "outputs": [
    {
     "name": "stdout",
     "output_type": "stream",
     "text": [
      "9.1e-02 Msun / year\n"
     ]
    }
   ],
   "source": [
    "M_sag = 4.1E6\n",
    "\n",
    "dM_sag = M_sag * dM_edd\n",
    "print('%.1e Msun / year' % dM_sag)"
   ]
  },
  {
   "cell_type": "markdown",
   "id": "4862018f",
   "metadata": {},
   "source": [
    "The Eddington growth time, which is the same as $1 / \\epsilon_{\\rm rad} \\dot{M}_{\\rm Edd}$:"
   ]
  },
  {
   "cell_type": "code",
   "execution_count": 6,
   "id": "a1de02d9",
   "metadata": {},
   "outputs": [
    {
     "name": "stdout",
     "output_type": "stream",
     "text": [
      "4.5e+08 years\n",
      "4.5e+08 years\n"
     ]
    }
   ],
   "source": [
    "t_edd = sigma_T * constants.C / (4.0 * np.pi * constants.G_CGS * constants.M_PROTON) / constants.YEAR\n",
    "print('%.1e years' % t_edd)\n",
    "print('%.1e years' % (1.0 / dM_edd / eps_rad_def))"
   ]
  },
  {
   "cell_type": "markdown",
   "id": "c91b0786",
   "metadata": {},
   "source": [
    "Time to grow a BH from $10^2$ to $10^8\\ M_\\odot$:"
   ]
  },
  {
   "cell_type": "code",
   "execution_count": 7,
   "id": "59369867",
   "metadata": {},
   "outputs": [
    {
     "name": "stdout",
     "output_type": "stream",
     "text": [
      "6.2e+08 years\n"
     ]
    }
   ],
   "source": [
    "n_efold = np.log(1E8 / 1E2)\n",
    "dt = t_edd * n_efold * eps_rad_def\n",
    "print('%.1e years' % dt)"
   ]
  },
  {
   "cell_type": "markdown",
   "id": "77b9e6f2",
   "metadata": {},
   "source": [
    "We compare this time to the age of the Universe at $z = 7$:"
   ]
  },
  {
   "cell_type": "code",
   "execution_count": 8,
   "id": "199b9a73",
   "metadata": {},
   "outputs": [
    {
     "name": "stdout",
     "output_type": "stream",
     "text": [
      "7.6e+08 years\n"
     ]
    }
   ],
   "source": [
    "t7 = cmn.cosmo.age(7.0) * 1E9\n",
    "print('%.1e years' % t7)"
   ]
  },
  {
   "cell_type": "markdown",
   "id": "ee1b7c63",
   "metadata": {},
   "source": [
    "Clearly, a BH would need to grow at super-Eddington accretion rates if its initial mass was $100\\ M_\\odot$!"
   ]
  },
  {
   "cell_type": "markdown",
   "id": "01007524-345e-40d0-9ceb-764b8fd131ae",
   "metadata": {},
   "source": [
    "### 9.3) AGN feedback"
   ]
  },
  {
   "cell_type": "markdown",
   "id": "b31e9adf-5c81-4569-a092-72e12d4eb04c",
   "metadata": {},
   "source": [
    "We calculate the ratio of AGN to binding energy:"
   ]
  },
  {
   "cell_type": "code",
   "execution_count": 9,
   "id": "0bc77e21",
   "metadata": {},
   "outputs": [
    {
     "name": "stdout",
     "output_type": "stream",
     "text": [
      "The ratio is 100.\n"
     ]
    }
   ],
   "source": [
    "E_bh_msun = eps_rad_def * constants.C**2 * 0.001\n",
    "E_star_msun = (300 * 1E5)**2\n",
    "\n",
    "r = E_bh_msun / E_star_msun\n",
    "print('The ratio is %.0f.' % r)"
   ]
  }
 ],
 "metadata": {
  "kernelspec": {
   "display_name": "Python 3 (ipykernel)",
   "language": "python",
   "name": "python3"
  },
  "language_info": {
   "codemirror_mode": {
    "name": "ipython",
    "version": 3
   },
   "file_extension": ".py",
   "mimetype": "text/x-python",
   "name": "python",
   "nbconvert_exporter": "python",
   "pygments_lexer": "ipython3",
   "version": "3.8.19"
  }
 },
 "nbformat": 4,
 "nbformat_minor": 5
}
